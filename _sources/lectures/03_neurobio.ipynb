{
 "cells": [
  {
   "attachments": {},
   "cell_type": "markdown",
   "metadata": {},
   "source": [
    "# Basic Neurobiology\n",
    "\n",
    "Now that we know some fundamentals of probabilistic modeling and inference, let's learn a little bit about neurobiology."
   ]
  },
  {
   "attachments": {},
   "cell_type": "markdown",
   "metadata": {},
   "source": [
    "## Anatomy of a neuron\n",
    "\n",
    ":::{figure} https://cdn.kastatic.org/ka-perseus-images/794448cebf7ff22ca9f1953ec1ad2b53e88c0c50.svg\n",
    "---\n",
    "name: anatomy_neuron\n",
    "---\n",
    "Anatomy of a neuron. (From [Khan Academy](https://www.khanacademy.org/test-prep/mcat/organ-systems/neuron-membrane-potentials/a/neuron-action-potentials-the-creation-of-a-brain-signal).)\n",
    ":::\n",
    "\n",
    "Neurons are cells too! They have the usual list of cell parts &mdash; a cell body, nucleus, etc. &mdash; but they also have a few unique parts that allow them to communicate with one another:\n",
    "\n",
    "- **dendrites**: receive input from other neurons\n",
    "- **axons**: propagate electrical activity long distances\n",
    "- **axon terminals**: send signals to other neurons\n",
    "- **myelin sheath**: speeds signal propagation along an axon\n"
   ]
  },
  {
   "attachments": {},
   "cell_type": "markdown",
   "metadata": {},
   "source": [
    "## Ions and concentration gradients\n",
    ":::{figure} https://cdn.kastatic.org/ka-perseus-images/087b8560145dd1d187c42f83581bdfa59a70530c.svg\n",
    "---\n",
    "name: concentration gradients\n",
    "---\n",
    "The difference in ion concentration inside the cell versus outside gives neurons an electrical charge. (From [Khan Academy](https://www.khanacademy.org/test-prep/mcat/organ-systems/neuron-membrane-potentials/a/neuron-action-potentials-the-creation-of-a-brain-signal).)\n",
    ":::\n",
    "\n",
    "Neurons are electrically excitable cells that contain an ionic soup of charged atoms like sodium, potassium, and calcium, which together maintain a difference in electrical potential between the inside and the outside of the cell membrane {cite}`luo2020principles`.\n"
   ]
  },
  {
   "attachments": {},
   "cell_type": "markdown",
   "metadata": {},
   "source": [
    "\n",
    "## Action potentials \n",
    ":::{figure} images/03_neurobio/action_potential.png\n",
    "---\n",
    "name: action_potential\n",
    "---\n",
    "Voltage-gated ion channels open and close to produce a brief spike in voltage called an action potential. (Adapted from [Wikipedia](https://en.wikipedia.org/wiki/Action_potential).)\n",
    ":::\n",
    "\n",
    "In most neurons, the cell membrane is littered with voltage-gated ion channels. If the membrane potential is excited above a certain threshold, some channels start to open, initiating an **action potential**. As described in the seminal work of {cite}`hodgkin1952quantitative`, positively charged sodium ions are first to rush into the cell, causing a further increase in membrane potential and leading more channels to open. The upswing in membrane potential eventually causes a reversal in cell polarity and the inactivation of sodium channels. At the same time, potassium channels open, allowing an efflux of positively charged potassium ions. Together, these halt the rising membrane potential and drive it back down toward its resting state. This brief action potential, or **spike**, takes place in just a few milliseconds.\n",
    "\n",
    "<iframe width=\"560\" height=\"315\" src=\"https://www.youtube.com/embed/PSRhGgPhoOA\" title=\"YouTube video player\" frameborder=\"0\" allow=\"accelerometer; autoplay; clipboard-write; encrypted-media; gyroscope; picture-in-picture; web-share\" allowfullscreen></iframe>\n"
   ]
  },
  {
   "attachments": {},
   "cell_type": "markdown",
   "metadata": {},
   "source": [
    "\n",
    "## Multi-compartment models\n",
    "Of course, this [spherical cow](https://en.wikipedia.org/wiki/Spherical_cow) model of a neuron is not a faithful representation of biology. Neurons have a complex anatomy of axons, cell bodies, dendrites, etc., as we saw above. However, this simple model is not a bad approximation for a single **compartment** of a cell, like a short stretch of axon. A more realistic model of a neuron is a network of compartments, each with its own ion channels, connected via passive cables. \n",
    "\n",
    "<iframe width=\"560\" height=\"315\" src=\"https://www.youtube.com/embed/KJrFpPO82z4\" title=\"YouTube video player\" frameborder=\"0\" allow=\"accelerometer; autoplay; clipboard-write; encrypted-media; gyroscope; picture-in-picture; web-share\" allowfullscreen></iframe>\n"
   ]
  },
  {
   "attachments": {},
   "cell_type": "markdown",
   "metadata": {},
   "source": [
    "## Extracellular voltage recordings\n",
    "\n",
    "\n",
    "The models above simulate how the **membrane potential** changes over time during an action potential to produce the characteristic spike shape. However, when we insert an electrode into the brain and measure voltage, we are typically recording the voltage at a location _outside_ the cell in the _extracellular milieu_. \n",
    "\n",
    ":::{figure} images/03_neurobio/eap.png\n",
    "---\n",
    "name: eap\n",
    "---\n",
    "Simulated extracellular action potential recordings from {cite:t}`gold2006origin`.\n",
    ":::\n",
    "\n",
    "Inside the cell, the membrane potential spikes by 50-100 mV during an action potential. Outside the cell, the measured **extracellular action potential (EAP)** is roughly proportional to the total current in nearby compartments of the cell. The EAP typically shows a **triphasic** response with a sharp _negative_ deflection of 50-100 $\\mu$V (three orders of magnitude smaller in magnitude). The amplitude falls off with distance from the cell.\n",
    "\n"
   ]
  },
  {
   "attachments": {},
   "cell_type": "markdown",
   "metadata": {},
   "source": [
    "## Neuropixels \n",
    "\n",
    ":::{figure} images/03_neurobio/neuropixels.png\n",
    "---\n",
    "name: neuropixels\n",
    "---\n",
    "a-c: Schematic of a Neuropixels probe. d. 200 ms window of the voltage time\n",
    "series illustrating several spikes.  Insets show the waveforms of \n",
    "spikes from neurons near the top and bottom of the probe. \n",
    "e. The location of the probe with brain regions superimposed.\n",
    "f. Image showing the implant. g. Firing rate (summed over all neurons)\n",
    "detected vs days since implantation. \n",
    "(Adapted from fig. 1 and 4 of {cite}`jun2017fully`.)\n",
    ":::\n",
    "\n",
    "A fundamental challenge of computational neuroscience is understanding how information is encoded in patterns of coordinated spiking activity across neural circuits. To meet this challenge, we need to be able to record the spiking activity of large populations of neurons. Modern electrodes allow us to do just that. For example, Neuropixels probes {cite}`jun2017fully,steinmetz2021neuropixels`, shown in {numref}`neuropixels`a-c, have hundreds of recording sites, or “channels.” The probe is inserted into an animal’s brain by surgically removing part of the skull to gain access to neural tissue ({numref}`neuropixels`f). Once inserted, the probe can record time series of electrical potentials (voltages) at up to 30 kHz across $\\approx$300 channels simultaneously ({numref}`neuropixels`d). Neuropixels span multiple brain regions in a rodent ({numref}`neuropixels`e) and are stable over months of recording ({numref}`neuropixels`g). They have quickly become a popular tool for measuring brain activity.\n"
   ]
  },
  {
   "attachments": {},
   "cell_type": "markdown",
   "metadata": {},
   "source": [
    "## Conclusion\n",
    "\n",
    "This was an admittedly brisk tour through the basics of neurobiology, but it will suffice for our discussion of spike sorting in the next chapter. We introduced \n",
    "- The basic parts of a neuron (dendrites, cell body, axons, etc.) \n",
    "- How differences in ion concentration inside vs outside the cell give rise to a difference in electrical potential\n",
    "- How voltage-gated ion channels in the cell membrane open and close to alter relative ion concentrations, and hence the voltage across the cell membrane\n",
    "- These ion channels determine a nonlinear dynamical system called the Hodgkin-Huxley model, which models how action potentials, aka \"spikes,\" are generated\n",
    "- Action potentials look nearly inverted in extracellular recordings, like those measured with Neuropixels probes."
   ]
  },
  {
   "attachments": {},
   "cell_type": "markdown",
   "metadata": {},
   "source": [
    "## Further reading\n",
    "\n",
    "If you want to learn more, I recommend:\n",
    "- The first few chapters of {cite}`luo2020principles` (Prof. Luo is a professor in the Stanford Biology department and he teaches an excellent class on neurobiology!)\n",
    "- The first few chapters of {cite}`dayan2005theoretical` are a good primer for those coming from math, physics, and more computational disciplines."
   ]
  }
 ],
 "metadata": {
  "kernelspec": {
   "display_name": "base",
   "language": "python",
   "name": "python3"
  },
  "language_info": {
   "codemirror_mode": {
    "name": "ipython",
    "version": 3
   },
   "file_extension": ".py",
   "mimetype": "text/x-python",
   "name": "python",
   "nbconvert_exporter": "python",
   "pygments_lexer": "ipython3",
   "version": "3.7.11 (default, Jul 27 2021, 07:03:16) \n[Clang 10.0.0 ]"
  },
  "orig_nbformat": 4,
  "vscode": {
   "interpreter": {
    "hash": "5b28c5bd4ee93d765ebe901023d5522822fb8ad083dac3187c5545022f913719"
   }
  }
 },
 "nbformat": 4,
 "nbformat_minor": 2
}

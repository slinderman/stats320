{
 "cells": [
  {
   "cell_type": "markdown",
   "id": "20792407",
   "metadata": {},
   "source": [
    "# Probabilistic Modeling\n",
    "\n",
    "Probabilistic models are distributions over data.\n",
    "The shape of the distribution is determine by model **parameters**.\n",
    "Our goal to **estimate** or **infer** those parameters from observed data.\n",
    "\n",
    "As the course goes on, we will encounter more and more complex datasets, and we will construct more and more sophisticated models.\n",
    "However, our models will still be composed of just a handful of basic building blocks, and our central goal of parameter estimation and inference remains the same."
   ]
  },
  {
   "attachments": {},
   "cell_type": "markdown",
   "id": "aa6469ec",
   "metadata": {},
   "source": [
    "## Simple example\n",
    "\n",
    "For example, let $x_t \\in \\mathbb{N}_0$ denote the number of spikes a neuron fires in time bin $t$. One of the simplest (and yet surprisingly not bad) models of neural spike counts is the [**Poisson distribution**](https://en.wikipedia.org/wiki/Poisson_distribution) with rate $\\lambda \\in \\mathbb{R}_+$,\n",
    "\n",
    "$$x_t \\sim \\mathrm{Pois}(\\lambda).$$\n",
    "\n",
    "The Poisson distribution has a simple **probability mass function (pmf)**,\n",
    "\n",
    "$$\\mathrm{Pois}(x_t; \\lambda) = \\frac{1}{x_t!} \\lambda^{x_t} e^{-\\lambda}.$$\n",
    "\n",
    "For Poisson random variables, the **mean**, aka **expected value**, $\\mathbb{E}[x_t]$, and **variance**, $\\mathbb{V}[x_t]$, are both equal to $\\lambda$.\n",
    "\n",
    ":::{admonition} Notation\n",
    "$x_t \\in \\mathbb{N}_0$ means that the variable $x_t$ is in ($\\in$) the set $\\mathbb{N}_0$, which is shorthand for the non-negative integers,\n",
    "\n",
    "$$\\mathbb{N}_0 = \\{0,1,2,\\ldots\\}.$$\n",
    "\n",
    "$\\lambda \\in \\mathbb{R}_+$ means that the rate $\\lambda$ is a non-negative real number.\n",
    ":::\n",
    "\n",
    ":::{admonition} Notation\n",
    "The first equation says that the spike count $x_t$ is a **random variable** whose distribution is ($\\sim$) Poisson with rate $\\lambda$.\n",
    "\n",
    "In the second equation, $\\mathrm{Pois}(x_t; \\lambda)$ refers to the pmf of the Poisson distribution evaluated at the point $x_t$. The notation can be a little confusing at first, but it's a standard convention.\n",
    ":::"
   ]
  },
  {
   "attachments": {},
   "cell_type": "markdown",
   "id": "d61a6337",
   "metadata": {},
   "source": [
    "## Sampling from a Poisson distribution\n",
    "\n",
    "Expand the code below to see how to sample a Poisson distribution using the `torch.distributions.Poisson` object in [PyTorch](https://pytorch.org/docs/stable/). The code plots the empirical distribution of 1000 independent samples from the Poisson distribution alongside the Poisson pmf."
   ]
  },
  {
   "cell_type": "code",
   "execution_count": 14,
   "id": "d76b8e70",
   "metadata": {
    "tags": [
     "hide-input"
    ]
   },
   "outputs": [
    {
     "data": {
      "image/png": "[encoded data removed]",
      "text/plain": [
       "<Figure size 432x288 with 1 Axes>"
      ]
     },
     "metadata": {
      "needs_background": "light"
     },
     "output_type": "display_data"
    }
   ],
   "source": [
    "import torch\n",
    "from torch.distributions import Poisson\n",
    "import matplotlib.pyplot as plt\n",
    "\n",
    "# Construct a Poisson distribution with rate 5.0 and draw 1000 samples\n",
    "rate = 5.0\n",
    "pois = Poisson(rate)\n",
    "xs = pois.sample(sample_shape=(1000,))\n",
    "\n",
    "# Plot a histogram of the samples and overlay the pmf\n",
    "bins = torch.arange(15)\n",
    "plt.hist(xs, bins, density=True, edgecolor='k', label='samples')\n",
    "plt.plot(bins + .5, torch.exp(pois.log_prob(bins)), '-o', label='pmf')\n",
    "plt.xlabel(\"x\")\n",
    "plt.ylabel(\"p(x)\")\n",
    "_ = plt.legend()"
   ]
  },
  {
   "attachments": {},
   "cell_type": "markdown",
   "id": "fe6400e0",
   "metadata": {},
   "source": [
    "## Fitting a Poisson distribution\n",
    "\n",
    "Now suppose you observe the empirical spike counts sampled above (i.e. the blue histogram) and you want to estimate the rate $\\lambda$.\n",
    "\n",
    "Let $\\mathbf{x} = (x_1, \\ldots, x_T)$ denote the vector of spike counts. \n",
    "\n",
    "Since the simulated spike counts are **independent** random variables, their **joint probability** is a product of Poisson pmf's,\n",
    "\n",
    "$$\n",
    "\\begin{align*}\n",
    "p(\\mathbf{x}; \\lambda) \n",
    "&= \\prod_{t=1}^T p(x_t; \\lambda) \\\\\n",
    "&= \\prod_{t=1}^T \\mathrm{Pois}(x_t; \\lambda) \\\\\n",
    "&= \\prod_{t=1}^T \\frac{1}{x_t!} \\lambda^{x_t} e^{-\\lambda}.\n",
    "\\end{align*}\n",
    "$$\n",
    "\n",
    "We want to find the rate that maximizes this probability,\n",
    "\n",
    "$$\n",
    "\\lambda_{\\mathsf{MLE}} = \\text{arg max} \\; p(\\mathbf{x}; \\lambda).\n",
    "$$\n",
    "\n",
    "This is called **maximum likelihood estimation**, and $\\lambda_{\\mathsf{MLE}}$ is called the **maximum likelihood estimate (MLE)**."
   ]
  },
  {
   "attachments": {},
   "cell_type": "markdown",
   "id": "41b2d77f",
   "metadata": {},
   "source": [
    "## Solving for the MLE\n",
    "\n",
    "In this simple model, we can derive a closed form expression for the MLE.\n",
    "\n",
    "First, note that maximizing $p(\\mathbf{x}; \\lambda)$ is the same as maximizing $\\log p(\\mathbf{x}; \\lambda)$, since the log is a concave function. \n",
    "\n",
    "Taking logs of both sides, we find\n",
    "\n",
    "$$\n",
    "\\begin{align*}\n",
    "\\log p(\\mathbf{x}; \\lambda) \n",
    "&= \\sum_{t=1}^T - \\log x_t! + x_t \\log \\lambda -\\lambda.\n",
    "\\end{align*}\n",
    "$$\n",
    "\n",
    "To maximize with respect to $\\lambda$, we simply take the derivative, set it to zero, and solve for $\\lambda$,\n",
    "\n",
    "$$\n",
    "\\begin{align*}\n",
    "\\frac{\\mathrm{d}}{\\mathrm{d} \\lambda} \\log p(\\mathbf{x}; \\lambda) \n",
    "&= \\sum_{t=1}^T \\left( \\frac{x_t}{\\lambda} - 1 \\right) \\\\\n",
    "&= \\frac{1}{\\lambda} \\left( \\sum_{t=1}^T x_t \\right) - T\n",
    "\\end{align*}\n",
    "$$\n",
    "\n",
    "Setting to zero and solving yields,\n",
    "\n",
    "$$\n",
    "\\lambda_{\\mathsf{MLE}} = \\frac{1}{T} \\sum_{t=1}^T x_t.\n",
    "$$\n",
    "\n",
    "In other words, the MLE is just the mean of the empirical spike counts, which seems sensible!"
   ]
  },
  {
   "attachments": {},
   "cell_type": "markdown",
   "id": "37a66a54",
   "metadata": {},
   "source": [
    "## Adding a prior distribution\n",
    "\n",
    "Maximum likelihood estimation finds the rate that maximizes the probability of the observed spike counts, but it doesn't take into account any prior information.\n",
    "\n",
    "For example, this may not be the first neuron you've ever encountered. Maybe, based on your experience, you have a sense for the distribution of neural firing rates. That knowledge can be encoded in a **prior distribution**. \n",
    "\n",
    "One common choice of prior on rates is the [**gamma distribution**](https://en.wikipedia.org/wiki/Gamma_distribution),\n",
    "\n",
    "$$\n",
    "\\lambda \\sim \\mathrm{Ga}(\\alpha, \\beta).\n",
    "$$\n",
    "\n",
    "The gamma distribution has **support** for $\\lambda \\in \\mathbb{R}_+$, and it is governed by two parameters:\n",
    "- $\\alpha$, the **shape** or **concentration** parameter, and\n",
    "- $\\beta$, the **inverse scale** or **rate** parameter.\n",
    "\n",
    "It's **probability density function (pdf)** is,\n",
    "\n",
    "$$\n",
    "\\mathrm{Ga}(\\lambda; \\alpha, \\beta) = \\frac{\\beta^\\alpha}{\\Gamma(\\alpha)} \\lambda^{\\alpha - 1} e^{-\\beta \\lambda}.\n",
    "$$\n",
    "\n",
    "where $\\Gamma(\\cdot)$ denotes the gamma function.\n",
    "\n",
    ":::{admonition} PDFs vs PMFs\n",
    ":class: dropdown\n",
    "Since the gamma distribution has _continuous_ support over the non-negative reals as opposed to _discrete_ support over, say, the non-negative integers, it has a probability _density_ function rather than a probability _mass_ function. \n",
    "\n",
    "Technically, the probability that $\\lambda$ falls in a subset of $\\mathbb{R}_+$, like the interval $[a, b)$, is the integral of the probability density function,\n",
    "\n",
    "$$\n",
    "\\Pr(\\lambda \\in [a, b)) = \\int_a^b \\mathrm{Ga}(\\lambda; \\alpha, \\beta) \\, \\mathrm{d} \\lambda.\n",
    "$$\n",
    ":::"
   ]
  },
  {
   "attachments": {},
   "cell_type": "markdown",
   "id": "d61a6337",
   "metadata": {},
   "source": [
    "## Sampling from a gamma distribution\n",
    "\n",
    "Expand the code below to see how to sample a gamma distribution using the [`torch.distributions.Gamma`](https://pytorch.org/docs/stable/distributions.html#gamma) object. The code plots the empirical distribution of 1000 independent samples from the gamma distribution, binned into 25 evenly sized bins. It overlays the gamma pdf for comparison.\n",
    "\n",
    "In words, we might say this particular gamma distribution conveys a prior belief that\n",
    "> _Firing rates are usually around 10 spikes/time bin with standard deviation of around 3 spikes/time bin._"
   ]
  },
  {
   "cell_type": "code",
   "execution_count": 15,
   "id": "d76b8e70",
   "metadata": {
    "tags": [
     "hide-input"
    ]
   },
   "outputs": [
    {
     "data": {
      "image/png": "[encoded data removed]",
      "text/plain": [
       "<Figure size 432x288 with 1 Axes>"
      ]
     },
     "metadata": {
      "needs_background": "light"
     },
     "output_type": "display_data"
    }
   ],
   "source": [
    "import torch\n",
    "from torch.distributions import Gamma\n",
    "import matplotlib.pyplot as plt\n",
    "\n",
    "# Construct a gamma distribution \n",
    "alpha = 10.0\n",
    "beta = 10.0/10.0\n",
    "gam = Gamma(alpha, beta)\n",
    "lambdas = gam.sample(sample_shape=(1000,))\n",
    "\n",
    "# Plot a histogram of the samples and overlay the pmf\n",
    "grid = torch.linspace(0, 25, 100)\n",
    "bins = torch.linspace(0, 25, 25)\n",
    "plt.hist(lambdas, bins, density=True, edgecolor='k', label='samples')\n",
    "plt.plot(grid, torch.exp(gam.log_prob(grid)), '-', label='pdf')\n",
    "plt.xlabel(r\"$\\lambda$\")\n",
    "plt.ylabel(r\"$p(\\lambda)$\")\n",
    "_ = plt.legend()"
   ]
  },
  {
   "attachments": {},
   "cell_type": "markdown",
   "id": "fe6400e0",
   "metadata": {},
   "source": [
    "## Fitting a Poisson distribution with a gamma prior\n",
    "\n",
    "When we add in the prior distribution on $\\lambda$, it becomes a random variable too. Now we have to consider the **joint distribution** of $\\mathbf{x}$ and $\\lambda$,\n",
    "\n",
    "$$\n",
    "\\begin{align*}\n",
    "p(\\mathbf{x}, \\lambda) \n",
    "&= p(\\mathbf{x} \\mid \\lambda) \\, p(\\lambda) \\\\\n",
    "&= \\left[ \\prod_{t=1}^T \\mathrm{Pois}(x_t \\mid \\lambda) \\right] \\, \\mathrm{Ga}(\\lambda; \\alpha, \\beta) \n",
    "\\end{align*}\n",
    "$$\n",
    "\n",
    ":::{warning}\n",
    "We dropped the dependence on the parameters of the gamma prior, $\\alpha$ and $\\beta$. Technically, we should write $p(\\mathbf{x}, \\lambda; \\alpha, \\beta)$, but that gets cumbersome.\n",
    ":::\n",
    "\n",
    ":::{admonition} The Product Rule, the Sum Rule, and Bayes' Rule\n",
    "In the first line we applied the **product rule** of probability, which says that we can rewrite a joint distribution as a product of a **marginal distribution** and a **conditional distribution**\n",
    "\n",
    "$$\n",
    "p(x, y) = p(x) \\, p(y \\mid x).\n",
    "$$\n",
    "\n",
    "The order doesn't matter; we could alternatively write,\n",
    "\n",
    "$$\n",
    "p(x, y) = p(y) p(x \\mid y).\n",
    "$$\n",
    "\n",
    "The marginal distributions $p(x)$ and $p(y)$ are obtained via the **sum rule**,\n",
    "\n",
    "$$\n",
    "p(x) = \\sum_{y \\in \\mathcal{Y}} p(x, y)\n",
    "$$\n",
    "\n",
    "where $\\mathcal{Y}$ is the support of the random variable $y$. \n",
    "\n",
    "Finally, putting both together, we obtain **Bayes' rule**,\n",
    "\n",
    "$$\n",
    "p(x \\mid y) = \\frac{p(x, y)}{p(y)} = \\frac{p(y \\mid x) \\, p(x)}{p(y)}.\n",
    "$$\n",
    ":::\n",
    "\n",
    ":::{admonition} Bars vs semicolons\n",
    ":class: dropdown\n",
    "Why do we sometimes use bars ($\\mid$) and other times semicolons (;)? \n",
    "Technically, we use the bar when we are writing a **conditional distribution** of one random variable given another, like $p(x \\mid y)$ in Bayes' rule above. When we simply want to write a function that depends on some parameters, we use a semicolon, like $p(x; \\theta)$.\n",
    "\n",
    "So why did we switch from writing $p(\\mathbf{x}; \\lambda)$ to $p(\\mathbf{x} \\mid \\lambda)$? Because when we placed a prior on $\\lambda$, we switched from treating $\\lambda$ as a parameter to instead thinking of it as a random variable. It's a technical distinction, but we'll try to be precise!\n",
    "\n",
    ":::"
   ]
  },
  {
   "attachments": {},
   "cell_type": "markdown",
   "id": "680eef52",
   "metadata": {},
   "source": [
    "## Bayesian inference\n",
    "\n",
    "What does it mean to \"fit\" the rate of a Poisson distribution under a gamma prior? Formally, we perform **Bayesian inference**. \n",
    "\n",
    "We want to compute the **posterior distribution** of the rate $\\lambda$ _given_ the observed spike counts $\\mathbf{x}$ (and the prior parameters $\\alpha$ and $\\beta$, which are assumed fixed),\n",
    "\n",
    "$$\n",
    "p(\\lambda \\mid \\mathbf{x}).\n",
    "$$\n",
    "\n",
    "By Bayes' rule (see box above), the posterior distribution is equal to the ratio of the **joint distribution** over the **marginal distribution**,\n",
    "\n",
    "$$\n",
    "p(\\lambda \\mid \\mathbf{x}) = \\frac{p(\\mathbf{x}, \\lambda)}{p(\\mathbf{x})}.\n",
    "$$\n",
    "\n",
    "Note that the denominator (the marginal distribution) does not depend on $\\lambda$, so the posterior is proportional to the joint,\n",
    "\n",
    "$$\n",
    "p(\\lambda \\mid \\mathbf{x}) \\propto p(\\mathbf{x}, \\lambda).\n",
    "$$"
   ]
  },
  {
   "attachments": {},
   "cell_type": "markdown",
   "id": "c74cf286",
   "metadata": {},
   "source": [
    "## Maximum _a posteriori_ inference\n",
    "\n",
    "A simple summary of the posterior distribution is its **mode** &mdash; the point(s) where the pdf is maximized,\n",
    "\n",
    "$$\n",
    "\\lambda_{\\mathsf{MAP}} = \\text{arg max} \\; p(\\lambda \\mid \\mathbf{x}).\n",
    "$$\n",
    "\n",
    "or equivalently, \n",
    "\n",
    "$$\n",
    "\\lambda_{\\mathsf{MAP}} = \\text{arg max} \\; p(\\lambda, \\mathbf{x}).\n",
    "$$\n",
    "\n",
    "since the posterior is proportional to the joint.\n",
    "\n",
    ":::{warning}\n",
    "True Bayesians cringe at MAP estimation! _How can a single point (the mode) summarize an entire distribution!?_ It can't, but we'll use it for now and be better Bayesians later in the course.\n",
    ":::"
   ]
  },
  {
   "attachments": {},
   "cell_type": "markdown",
   "id": "f40f719d",
   "metadata": {},
   "source": [
    "## Conjugate priors\n",
    "\n",
    "Now let's go back and expand the Poisson pmf and the gamma pdf in the joint distribution,\n",
    "\n",
    "$$\n",
    "\\begin{align*}\n",
    "p(\\lambda \\mid \\mathbf{x}) & \\propto p(\\mathbf{x}, \\lambda) \\\\\n",
    "&= \\left[ \\prod_{t=1}^T \\mathrm{Pois}(x_t \\mid \\lambda) \\right] \\, \\mathrm{Ga}(\\lambda; \\alpha, \\beta) \\\\\n",
    "&= \\left[ \\prod_{t=1}^T \\frac{1}{x_t!} \\lambda^{x_t} e^{-\\lambda} \\right] \\, \\frac{\\beta^\\alpha}{\\Gamma(\\alpha)} \\lambda^{\\alpha - 1} e^{-\\beta \\lambda}\n",
    "\\end{align*}\n",
    "$$\n",
    "\n",
    "Many of these terms can be combined! After simplifying, \n",
    "\n",
    "$$\n",
    "\\begin{align*}\n",
    "p(\\lambda \\mid \\mathbf{x}) \n",
    "& \\propto p(\\mathbf{x}, \\lambda) \\\\\n",
    "&= C \\lambda^{\\alpha' - 1} e^{-\\beta' \\lambda} \\\\\n",
    "&\\propto \\mathrm{Ga}(\\lambda \\mid \\alpha', \\beta')\n",
    "\\end{align*}\n",
    "$$\n",
    "\n",
    "where \n",
    "\n",
    "$$\n",
    "\\begin{align*}\n",
    "\\alpha' &= \\alpha + \\sum_{t=1}^T x_t \\\\\n",
    "\\beta' &= \\beta + T\n",
    "\\end{align*}\n",
    "$$\n",
    "\n",
    "and $C$ is a constant with respect to $\\lambda$. \n",
    "\n",
    "Thus, the posterior distribution is a gamma distribution, just like the prior! For this reason, we say the gamma is a [**conjugate prior**](https://en.wikipedia.org/wiki/Conjugate_prior) for the rate of the Poisson distribution.\n"
   ]
  },
  {
   "attachments": {},
   "cell_type": "markdown",
   "id": "41b2d77f",
   "metadata": {},
   "source": [
    "## Solving for the MAP estimate\n",
    "\n",
    "How do we solve for the MAP estimate, $\\lambda_{\\mathsf{MAP}} = \\text{arg max} \\; p(\\lambda \\mid \\mathbf{x})$?\n",
    "\n",
    "Now that you know the posterior is a gamma distribution, you can expand its pdf, take the log, take the derivative wrt $\\lambda$, set it to zero and solve. \n",
    "\n",
    "Or you can just go to the Wikipedia page on the [gamma distribution](https://en.wikipedia.org/wiki/Gamma_distribution) and see that its mode is\n",
    "\n",
    "$$\n",
    "\\lambda_{\\mathsf{MAP}} = \\frac{\\alpha' - 1}{\\beta'} = \\frac{\\alpha - 1 + \\sum_{t=1}^T x_t}{\\beta + T}\n",
    "$$\n",
    "\n",
    "for $\\alpha' \\geq 1$, and 0 otherwise. \n",
    "\n",
    ":::{admonition} Uninformative priors\n",
    ":class: dropdown\n",
    "When does the MAP estimate coincide with the MLE? Intuitively, that happens when the prior probability is flat, or **uninformative**. Unfortunately, it's impossible to have a flat prior over the entire set of non-negative reals since the pdf has to integrate to one. However, we obtain an uninformative gamma prior in the limit that $\\alpha \\to 1$ and $\\beta \\to 0$. In that limit, $\\alpha' \\to \\sum_t x_t$ and $\\beta' \\to T$ so that $\\lambda_{\\mathsf{MAP}} \\to \\frac{1}{T} \\sum_t x_t = \\lambda_{\\mathsf{MLE}}$.\n",
    ":::"
   ]
  },
  {
   "attachments": {},
   "cell_type": "markdown",
   "id": "05c8657d",
   "metadata": {},
   "source": [
    "## MAP estimation in our simulated example\n",
    "\n",
    "Take the simulated data from above. What is the MAP estimate of the rate given the observed spike counts and the prior, and how does it compare to the MLE? We have..."
   ]
  },
  {
   "cell_type": "code",
   "execution_count": 16,
   "id": "d4502c81",
   "metadata": {},
   "outputs": [
    {
     "name": "stdout",
     "output_type": "stream",
     "text": [
      "MLE: tensor(5.0480)\n",
      "MAP: tensor(5.0519)\n"
     ]
    }
   ],
   "source": [
    "alpha_post = alpha + xs.sum()\n",
    "beta_post = beta + len(xs)\n",
    "\n",
    "lambda_mle = xs.sum() / len(xs)\n",
    "lambda_map = (alpha_post - 1) / beta_post\n",
    "\n",
    "print(\"MLE:\", lambda_mle)\n",
    "print(\"MAP:\", lambda_map)"
   ]
  },
  {
   "attachments": {},
   "cell_type": "markdown",
   "id": "0e8c742b",
   "metadata": {},
   "source": [
    ":::{admonition} Questions\n",
    "- Why is the MAP estimate slightly higher than the MLE?\n",
    "- What if you make $T$ smaller? Change the code above to sample $20$ spike counts instead of 1000. How does that change the MAP/MLE difference?\n",
    ":::"
   ]
  },
  {
   "attachments": {},
   "cell_type": "markdown",
   "id": "06ae0a68",
   "metadata": {},
   "source": [
    "## Mixture models and latent variables\n",
    "\n",
    ":::{figure} images/02_probabilistic_modeling/up_down.png\n",
    "---\n",
    "name: up_down\n",
    "---\n",
    "Example of a mixture model with a latent variable $z_t$ specifying whether the neuron is in the up or down state.\n",
    ":::\n",
    "\n",
    "We've already gotten a lot of mileage out of this simple Poisson example! However, real data will rarely be so simple. One way to build richer models is by introducing **latent variables**.\n",
    "\n",
    "For example, suppose that at each time bin $t$, the neuron can either be in an _up_ state with a high firing rate, or a _down_ state with low firing rate. \n",
    "\n",
    "Let $z_t \\in \\{0,1\\}$ be a latent variable (something we don't explicitly observe) that denotes which state the neuron in is at that time, with 1 meaning _up_ and 0 meaning _down_. Likewise, let $\\lambda_1$ and $\\lambda_0$ denote the corresponding firing rates, with $\\lambda_1 > \\lambda_0$.\n",
    "\n",
    "We will place gamma priors the firing rates, $\\lambda_1 \\sim \\mathrm{Ga}(\\alpha, \\beta)$ and $\\lambda_0 \\sim \\mathrm{Ga}(\\alpha, \\beta)$. (We could get fancy here, but let's keep it simple for now.)\n",
    "\n",
    "Finally, assume that the latent variables are equally probable and independent across time. Formally, we can write that as a [**categorical distribution**](https://en.wikipedia.org/wiki/Categorical_distribution) with equal probabilities for both states,\n",
    "\n",
    "$$\n",
    "z_t \\sim \\mathrm{Cat}([\\tfrac{1}{2}, \\tfrac{1}{2}]).\n",
    "$$\n",
    "\n",
    "The resulting model is called a **mixture model** because the marginal distribution, $p(x_t \\mid \\boldsymbol{\\lambda})$ where $\\boldsymbol{\\lambda} = (\\lambda_0, \\lambda_1)$, is a mixture of two Poisson distributions,\n",
    "\n",
    "$$\n",
    "\\begin{align*}\n",
    "p(x_t \\mid \\boldsymbol{\\lambda}) \n",
    "&= \\sum_{z_t \\in \\{0,1\\}} p(x_t, z_t \\mid \\boldsymbol{\\lambda}) \\\\\n",
    "&= \\sum_{z_t \\in \\{0,1\\}} p(x_t \\mid z_t, \\boldsymbol{\\lambda}) \\, p(z_t) \\\\\n",
    "&= \\frac{1}{2} \\mathrm{Pois}(x_t \\mid \\lambda_0) + \\frac{1}{2} \\mathrm{Pois}(x_t \\mid \\lambda_1) \n",
    "\\end{align*}\n",
    "$$\n",
    "\n",
    ":::{admonition} Question\n",
    "What probability rule did we use to get this marginal distribution?\n",
    ":::"
   ]
  },
  {
   "attachments": {},
   "cell_type": "markdown",
   "id": "df7aabf7",
   "metadata": {},
   "source": [
    "## Sampling a Poisson mixture model\n",
    "\n",
    "Let's draw samples from the mixture model, like we did above for the single Poisson distribution."
   ]
  },
  {
   "cell_type": "code",
   "execution_count": 8,
   "id": "d61a6337",
   "metadata": {
    "tags": [
     "hide-input"
    ]
   },
   "outputs": [
    {
     "data": {
      "image/png": "[encoded data removed]",
      "text/plain": [
       "<Figure size 432x288 with 1 Axes>"
      ]
     },
     "metadata": {
      "needs_background": "light"
     },
     "output_type": "display_data"
    }
   ],
   "source": [
    "import torch\n",
    "from torch.distributions import Poisson, Categorical\n",
    "import matplotlib.pyplot as plt\n",
    "\n",
    "# Construct a Poisson mixture model with down rate 1.0 and up rate 10.0\n",
    "rates = torch.asarray([1.0, 10.0])\n",
    "cat = Categorical(torch.asarray([0.5, 0.5]))\n",
    "T = 1000\n",
    "\n",
    "# Sample the states from the categorical distribution\n",
    "zs = cat.sample(sample_shape=(T,))\n",
    "\n",
    "# Sample the spike counts from a Poisson distribution \n",
    "# using the rate for the corresponding state.\n",
    "# Note: this uses PyTorch's broadcasting semantics.\n",
    "xs = Poisson(rates[zs]).sample()\n",
    "\n",
    "# Compute the mixture probability at a range of bins\n",
    "bins = torch.arange(20) \n",
    "up_pmf = torch.exp(Poisson(rates[1]).log_prob(bins))\n",
    "down_pmf = torch.exp(Poisson(rates[0]).log_prob(bins))\n",
    "mixture_pmf = 0.5 * (up_pmf + down_pmf)\n",
    "\n",
    "# Plot a histogram of the samples and overlay the pmf\n",
    "plt.hist(xs, bins, density=True, edgecolor='k', label='samples')\n",
    "plt.plot(bins + 0.5, mixture_pmf, '-o', label='pmf')\n",
    "plt.xlabel(\"x\")\n",
    "plt.ylabel(\"p(x)\")\n",
    "_ = plt.legend()"
   ]
  },
  {
   "attachments": {},
   "cell_type": "markdown",
   "id": "fe6400e0",
   "metadata": {},
   "source": [
    "With this model, we can capture **multimodal** firing rate distributions.\n",
    "\n",
    ":::{admonition} The `MixtureSameFamily` class\n",
    ":class: dropdown\n",
    "We manually sampled the mixture distribution by first sampling the `Categorical` and then the `Poisson`. PyTorch also provides a [`MixtureSameFamily`](https://pytorch.org/docs/stable/distributions.html#mixturesamefamily) class to do this in one step.\n",
    ":::"
   ]
  },
  {
   "attachments": {},
   "cell_type": "markdown",
   "id": "cf4b1a30",
   "metadata": {},
   "source": [
    "## Fitting a mixture model by coordinate ascent\n",
    "\n",
    "Conceptually, fitting the mixture model is no different than fitting the the simple Poisson model above.\n",
    "\n",
    "We will perform MAP estimation to find,\n",
    "\n",
    "$$\n",
    "\\begin{align*}\n",
    "\\mathbf{z}_{\\mathsf{MAP}}, \\boldsymbol{\\lambda}_{\\mathsf{MAP}}\n",
    "= \\text{arg max} \\; p(\\mathbf{z}, \\boldsymbol{\\lambda} \\mid \\mathbf{x})\n",
    "\\end{align*}\n",
    "$$\n",
    "\n",
    "where $\\mathbf{z} = (z_1, \\ldots, z_T)$. Again, this is equivalent to maximizing the joint probability.\n",
    "\n",
    "Expanding the joint distribution over spike counts, latent variables, and rates,\n",
    "\n",
    "$$\n",
    "\\begin{align*}\n",
    "p(\\mathbf{x}, \\mathbf{z}, \\boldsymbol{\\lambda})\n",
    "&= \\left[ \\prod_{t=1}^T p(x_t \\mid z_t, \\boldsymbol{\\lambda}) \\, p(z_t) \\right]\n",
    "p(\\boldsymbol{\\lambda})  \\\\\n",
    "&= \\left[ \\prod_{t=1}^T \\mathrm{Pois}(x_t \\mid \\lambda_{z_t}) \\times \\frac{1}{2} \\right] \\, \\mathrm{Ga}(\\lambda_0; \\alpha, \\beta) \\, \\mathrm{Ga}(\\lambda_1; \\alpha, \\beta)\n",
    "\\end{align*}\n",
    "$$\n",
    "\n",
    "Our strategy for maximizing this objective is to iteratively maximize with respect to one variable at a time, holding the rest fixed. This is called **coordinate ascent**. \n",
    "\n",
    "Fixing the rates, the most likely state at time $t$ is,\n",
    "\n",
    "$$\n",
    "z_t = \n",
    "\\begin{cases} \n",
    "1 & \\text{if } \\; \\mathrm{Pois}(x_t \\mid \\lambda_1) \\geq \\mathrm{Pois}(x_t \\mid \\lambda_0) \\\\\n",
    "0 & \\text{otherwise}\n",
    "\\end{cases}\n",
    "$$\n",
    "\n",
    "Fixing the states, the most likely rates are\n",
    "\n",
    "$$\n",
    "\\begin{align*}\n",
    "\\lambda_k &= \\frac{\\alpha_k' -1}{\\beta_k'} \\\\\n",
    "\\alpha_k' &= \\alpha + \\sum_{t=1}^T x_t \\, \\mathbb{I}[z_t = k] \\\\\n",
    "\\beta_k' &= \\beta + \\sum_{t=1}^T \\mathbb{I}[z_t = k]\n",
    "\\end{align*}\n",
    "$$\n",
    "\n",
    "for $k \\in \\{0, 1\\}$. \n",
    "\n",
    ":::{admonition} Notation\n",
    "The indicator function $\\mathbb{I}[y]$ equals 1 if the predicate $y$ is true; otherwise it equals zero.\n",
    ":::\n",
    "\n",
    ":::{admonition} Exercise\n",
    "Derive these coordinate updates!\n",
    "\n",
    "How would they change if the state were not equally probable _a priori_? That is, what if instead\n",
    "\n",
    "$$\n",
    "z_t \\sim \\mathrm{Cat}([\\pi_0, \\pi_1])\n",
    "$$\n",
    "\n",
    "where $\\pi_0$ and $\\pi_1$ are the probabilities of down and up states, respectively?\n",
    ":::\n",
    "\n",
    ":::{admonition} Connection to K-Means\n",
    ":class: dropdown\n",
    "You may have encountered the K-Means clustering algorithm in other courses. In K-Means, you alternate between assining datapoints to the closest cluster and then updating the cluster centroids to the mean of their assigned datapoints. \n",
    "\n",
    "Our coordinate ascent algorithm is very closely related! You can think of K-Means as coordinate ascent in a Gaussian mixture model with identity covariance and uninformative priors. That will make more sense in later weeks when we introduce the Gaussian distribution.\n",
    ":::\n",
    "\n",
    "\n"
   ]
  },
  {
   "attachments": {},
   "cell_type": "markdown",
   "id": "02b66c8f",
   "metadata": {},
   "source": [
    "## Conclusion\n",
    "\n",
    "This chapter introduced the basics of probabilistic modeling:\n",
    "- We encountered 3 common distributions: Poisson, gamma, and categorical.\n",
    "- We learned how to construct joint distributions using the product rule, how to compute marginal distributions with the sum rule, and how to find the posterior distribution with Bayes' rule.\n",
    "- We learned about maximum likelihood estimation (MLE) and maximum _a posteriori_ (MAP) estimation. \n",
    "- We encountered conjugate priors where the posterior distribution is in the same family, making calculations particularly simple.\n",
    "- Finally, we learned how to construct more flexible models by introducing latent variables, and how to perform MAP estimation in those models using coordinate ascent.\n",
    "\n",
    "Next time, we'll apply these concepts to our first real neural data analysis problem: spike sorting electrophysiological recordings. "
   ]
  },
  {
   "attachments": {},
   "cell_type": "markdown",
   "id": "4f18278a",
   "metadata": {},
   "source": [
    "## Further Reading\n",
    "\n",
    "There are many great references on probabilistic modeling. I like:\n",
    "\n",
    "- Ch 2.1 and 2.2 of {cite}`murphy2023probabilistic`\n",
    "- Ch 1.2 of {cite}`bishop2006pattern`"
   ]
  },
  {
   "attachments": {},
   "cell_type": "markdown",
   "id": "94699a67",
   "metadata": {},
   "source": [
    "## References\n",
    "```{bibliography}\n",
    "```"
   ]
  }
 ],
 "metadata": {
  "kernelspec": {
   "display_name": "base",
   "language": "python",
   "name": "python3"
  },
  "language_info": {
   "codemirror_mode": {
    "name": "ipython",
    "version": 3
   },
   "file_extension": ".py",
   "mimetype": "text/x-python",
   "name": "python",
   "nbconvert_exporter": "python",
   "pygments_lexer": "ipython3",
   "version": "3.7.11 (default, Jul 27 2021, 07:03:16) \n[Clang 10.0.0 ]"
  },
  "vscode": {
   "interpreter": {
    "hash": "5b28c5bd4ee93d765ebe901023d5522822fb8ad083dac3187c5545022f913719"
   }
  }
 },
 "nbformat": 4,
 "nbformat_minor": 5
}
